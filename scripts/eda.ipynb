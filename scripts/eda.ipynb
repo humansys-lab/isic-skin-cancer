{
 "cells": [
  {
   "cell_type": "code",
   "execution_count": 1,
   "metadata": {},
   "outputs": [],
   "source": [
    "import numpy as np\n",
    "import pandas as pd\n",
    "import pandas.api.types\n",
    "import matplotlib.pyplot as plt\n",
    "from sklearn.preprocessing import OrdinalEncoder\n",
    "from sklearn.metrics import roc_curve, auc, roc_auc_score\n",
    "from sklearn.model_selection import GroupKFold, StratifiedGroupKFold\n",
    "import os\n",
    "import polars as pl\n",
    "import random\n",
    "\n",
    "import lightgbm as lgb"
   ]
  },
  {
   "cell_type": "code",
   "execution_count": 2,
   "metadata": {},
   "outputs": [],
   "source": [
    "class Config:\n",
    "    PREPROCESS = False\n",
    "    KAGGLE_NOTEBOOK = False\n",
    "    DEBUG = True\n",
    "    SEED = 42\n",
    "    LR = 1e-3\n",
    "    WD = 1e-6\n",
    "    EARLY_STOPPING = False\n",
    "    NOTEBOOK = True\n",
    "    \n",
    "    \n",
    "if Config.DEBUG:\n",
    "    n_rows = 10**4\n",
    "else:\n",
    "    n_rows = None\n",
    "\n",
    "if Config.KAGGLE_NOTEBOOK:\n",
    "    RAW_DIR = \"/kaggle/input/isic-2024-challenge\"\n",
    "    OUTPUT_DIR = \"\"\n",
    "    MODEL_DIR = \"\"\n",
    "    \n",
    "else:\n",
    "    RAW_DIR = \"../data/raw/\"\n",
    "    PROCESSED_DIR = \"../data/processed/\"\n",
    "    OUTPUT_DIR = \"../data/result/\"\n",
    "    MODEL_DIR = \"../models/\"\n",
    "    LOG_DIR = \"../data/logs\"\n",
    "    LOSS_DIR = \"../data/losses\""
   ]
  },
  {
   "cell_type": "code",
   "execution_count": 4,
   "metadata": {},
   "outputs": [],
   "source": [
    "train = pl.read_csv(os.path.join(RAW_DIR, \"train-metadata.csv\")).to_pandas()"
   ]
  },
  {
   "cell_type": "code",
   "execution_count": 7,
   "metadata": {},
   "outputs": [
    {
     "name": "stdout",
     "output_type": "stream",
     "text": [
      "ターゲットの0と1の割合と数:\n",
      "target\n",
      "0    400666\n",
      "1       393\n",
      "Name: count, dtype: int64\n",
      "target\n",
      "0    0.99902\n",
      "1    0.00098\n",
      "Name: count, dtype: float64\n",
      "\n",
      "不均衡度合い:\n",
      "0の数: 400666, 割合: 0.9990\n",
      "1の数: 393, 割合: 0.0010\n"
     ]
    }
   ],
   "source": [
    "# ターゲットの0と1の割合を計算\n",
    "target_counts = train['target'].value_counts()\n",
    "total_counts = len(train)\n",
    "\n",
    "# 割合を計算\n",
    "target_ratio = target_counts / total_counts\n",
    "\n",
    "# 結果を表示\n",
    "print(\"ターゲットの0と1の割合と数:\")\n",
    "print(target_counts)\n",
    "print(target_ratio)\n",
    "\n",
    "# 不均衡度合いを表示\n",
    "print(\"\\n不均衡度合い:\")\n",
    "print(f\"0の数: {target_counts[0]}, 割合: {target_ratio[0]:.4f}\")\n",
    "print(f\"1の数: {target_counts[1]}, 割合: {target_ratio[1]:.4f}\")\n"
   ]
  },
  {
   "cell_type": "code",
   "execution_count": null,
   "metadata": {},
   "outputs": [],
   "source": []
  }
 ],
 "metadata": {
  "kernelspec": {
   "display_name": "Python 3",
   "language": "python",
   "name": "python3"
  },
  "language_info": {
   "codemirror_mode": {
    "name": "ipython",
    "version": 3
   },
   "file_extension": ".py",
   "mimetype": "text/x-python",
   "name": "python",
   "nbconvert_exporter": "python",
   "pygments_lexer": "ipython3",
   "version": "3.10.13"
  }
 },
 "nbformat": 4,
 "nbformat_minor": 2
}
